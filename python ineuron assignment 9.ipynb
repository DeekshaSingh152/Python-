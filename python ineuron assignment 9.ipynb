{
 "cells": [
  {
   "cell_type": "markdown",
   "id": "47b9bb99",
   "metadata": {},
   "source": [
    "## Programming Assignment_9\n",
    "----------------"
   ]
  },
  {
   "cell_type": "markdown",
   "id": "c725f7a9",
   "metadata": {},
   "source": [
    "### 1. Write a Python program to check if the given number is a Disarium Number?"
   ]
  },
  {
   "cell_type": "markdown",
   "id": "f0064401",
   "metadata": {},
   "source": [
    "### 2. Write a Python program to print all disarium numbers between 1 to 100?"
   ]
  },
  {
   "cell_type": "markdown",
   "id": "31df1e4a",
   "metadata": {},
   "source": [
    "### 3. Write a Python program to check if the given number is Happy Number?"
   ]
  },
  {
   "cell_type": "markdown",
   "id": "51b265e3",
   "metadata": {},
   "source": [
    "### 4. Write a Python program to print all happy numbers between 1 and 100?"
   ]
  },
  {
   "cell_type": "markdown",
   "id": "6a190ee0",
   "metadata": {},
   "source": [
    "### 5. Write a Python program to determine whether the given number is a Harshad Number?"
   ]
  },
  {
   "cell_type": "markdown",
   "id": "7a7ea92e",
   "metadata": {},
   "source": [
    "### 6. Write a Python program to print all pronic numbers between 1 and 100?"
   ]
  },
  {
   "cell_type": "markdown",
   "id": "e9991630",
   "metadata": {},
   "source": [
    "# 1. Write a Python program to check if the given number is a Disarium Number?"
   ]
  },
  {
   "cell_type": "code",
   "execution_count": 1,
   "id": "9a5b5fe9",
   "metadata": {},
   "outputs": [
    {
     "name": "stdout",
     "output_type": "stream",
     "text": [
      "175 is a disarium number\n"
     ]
    }
   ],
   "source": [
    "def calculateLength(n):    \n",
    "    length = 0;    \n",
    "    while(n != 0):    \n",
    "        length = length + 1;    \n",
    "        n = n//10;    \n",
    "    return length;    \n",
    "     \n",
    "num = 175;    \n",
    "rem = sum = 0;    \n",
    "len = calculateLength(num);    \n",
    "     \n",
    "#Makes a copy of the original number num    \n",
    "n = num;    \n",
    "     \n",
    "#Calculates the sum of digits powered with their respective position    \n",
    "while(num > 0):    \n",
    "    rem = num%10;    \n",
    "    sum = sum + int(rem**len);    \n",
    "    num = num//10;    \n",
    "    len = len - 1;    \n",
    "     \n",
    "#Checks whether the sum is equal to the number itself    \n",
    "if(sum == n):    \n",
    "    print(str(n) + \" is a disarium number\");    \n",
    "else:    \n",
    "    print(str(n) + \" is not a disarium number\");    "
   ]
  },
  {
   "cell_type": "markdown",
   "id": "39ee6c8a",
   "metadata": {},
   "source": [
    "# 2. Write a Python program to print all disarium numbers between 1 to 100?"
   ]
  },
  {
   "cell_type": "code",
   "execution_count": 4,
   "id": "2d8c72b0",
   "metadata": {},
   "outputs": [
    {
     "name": "stdout",
     "output_type": "stream",
     "text": [
      "Disarium numbers between 1 and 100 are\n",
      "1\n",
      "2\n",
      "3\n",
      "4\n",
      "5\n",
      "6\n",
      "7\n",
      "8\n",
      "9\n",
      "89\n"
     ]
    }
   ],
   "source": [
    "#calculateLength() will count the digits present in a number  \n",
    "def calculateLength(n):\n",
    "    length = 0;\n",
    "    while(n != 0):\n",
    "        length = length + 1;\n",
    "        n = n//10;\n",
    "    return length;\n",
    "#sumOfDigits() will calculates the sum of digits powered with their respective position  \n",
    "def sumOfDigits(num):\n",
    "    rem = sum = 0;\n",
    "    len = calculateLength(num);\n",
    "    while(num > 0):\n",
    "        rem = num%10;\n",
    "        sum = sum + (rem**len);\n",
    "        num = num//10;\n",
    "        len = len-1;\n",
    "    return sum;\n",
    "result = 0;\n",
    "#Displays all disarium numbers between 1 and 100  \n",
    "print(\"Disarium numbers between 1 and 100 are\");\n",
    "for i in range(1, 101):\n",
    "    result = sumOfDigits(i);\n",
    "    if(result == i):\n",
    "        print(i),"
   ]
  },
  {
   "cell_type": "markdown",
   "id": "bf9c8f20",
   "metadata": {},
   "source": [
    "### 3. Write a Python program to check if the given number is Happy Number?"
   ]
  },
  {
   "cell_type": "code",
   "execution_count": 6,
   "id": "ffd0d1ba",
   "metadata": {},
   "outputs": [
    {
     "name": "stdout",
     "output_type": "stream",
     "text": [
      "The number is being checked\n",
      "68 is a happy number\n"
     ]
    }
   ],
   "source": [
    "def check_happy_num(my_num):\n",
    "   remaining = sum_val = 0\n",
    "   while(my_num > 0):\n",
    "      remaining = my_num%10\n",
    "      sum_val = sum_val + (remaining*remaining)\n",
    "      my_num = my_num//10\n",
    "   return sum_val;\n",
    "my_num = 68\n",
    "my_result = my_num\n",
    "while(my_result != 1 and my_result != 4):\n",
    "   my_result = check_happy_num(my_result);\n",
    "print(\"The number is being checked\")\n",
    "if(my_result == 1):\n",
    "   print(str(my_num) + \" is a happy number\");\n",
    "elif(my_result == 4):\n",
    "   print(str(my_num) + \" isn't a happy number\");"
   ]
  },
  {
   "cell_type": "markdown",
   "id": "23254542",
   "metadata": {},
   "source": [
    "# 4. Write a Python program to print all happy numbers between 1 and 100?"
   ]
  },
  {
   "cell_type": "code",
   "execution_count": 7,
   "id": "dcca634c",
   "metadata": {},
   "outputs": [
    {
     "name": "stdout",
     "output_type": "stream",
     "text": [
      "The list of happy numbers between 1 and 100 are : \n",
      "1\n",
      "7\n",
      "10\n",
      "13\n",
      "19\n",
      "23\n",
      "28\n",
      "31\n",
      "32\n",
      "44\n",
      "49\n",
      "68\n",
      "70\n",
      "79\n",
      "82\n",
      "86\n",
      "91\n",
      "94\n",
      "97\n",
      "100\n"
     ]
    }
   ],
   "source": [
    "def check_happy_num(my_num):\n",
    "   remaining = sum_val = 0\n",
    "   while(my_num > 0):\n",
    "      remaining = my_num%10\n",
    "      sum_val = sum_val + (remaining*remaining)\n",
    "      my_num = my_num//10\n",
    "   return sum_val\n",
    "print(\"The list of happy numbers between 1 and 100 are : \")\n",
    "for i in range(1, 101):\n",
    "   my_result = i\n",
    "   while(my_result != 1 and my_result != 4):\n",
    "      my_result = check_happy_num(my_result)\n",
    "   if(my_result == 1):\n",
    "      print(i)"
   ]
  },
  {
   "cell_type": "markdown",
   "id": "2681b2b4",
   "metadata": {},
   "source": [
    "# 5. Write a Python program to determine whether the given number is a Harshad Number?"
   ]
  },
  {
   "cell_type": "code",
   "execution_count": 8,
   "id": "9b078f1e",
   "metadata": {},
   "outputs": [
    {
     "name": "stdout",
     "output_type": "stream",
     "text": [
      "4320 is a Harshad Number:True\n",
      "4321 is a Harshad Number:False\n"
     ]
    }
   ],
   "source": [
    "def calculate_sum_of_digits(N):\n",
    "    sumOfDigits = 0\n",
    "    while N > 0:\n",
    "        digit = N % 10\n",
    "        sumOfDigits = sumOfDigits + digit\n",
    "        N = N // 10\n",
    "    return sumOfDigits\n",
    "\n",
    "\n",
    "def check_for_harshad_number(N):\n",
    "    sumOfDigits = calculate_sum_of_digits(N)\n",
    "    if N % sumOfDigits == 0:\n",
    "        return True\n",
    "    else:\n",
    "        return False\n",
    "\n",
    "\n",
    "input_number = 4320\n",
    "output = check_for_harshad_number(input_number)\n",
    "print(\"{} is a Harshad Number:{}\".format(input_number, output))\n",
    "input_number = 4321\n",
    "output = check_for_harshad_number(input_number)\n",
    "print(\"{} is a Harshad Number:{}\".format(input_number, output))"
   ]
  },
  {
   "cell_type": "markdown",
   "id": "bd1e0393",
   "metadata": {},
   "source": [
    "# 6. Write a Python program to print all pronic numbers between 1 and 100?"
   ]
  },
  {
   "cell_type": "code",
   "execution_count": 10,
   "id": "8a0904d3",
   "metadata": {},
   "outputs": [
    {
     "name": "stdout",
     "output_type": "stream",
     "text": [
      "Pronic numbers between 1 and 100:\n",
      "2\n",
      " \n",
      "6\n",
      " \n",
      "12\n",
      " \n",
      "20\n",
      " \n",
      "30\n",
      " \n",
      "42\n",
      " \n",
      "56\n",
      " \n",
      "72\n",
      " \n",
      "90\n",
      " \n"
     ]
    }
   ],
   "source": [
    "def isPronicNumber(num):\n",
    "    flag = False;\n",
    "    for j in range(1, num+1):\n",
    "        #Checks for pronic number by multiplying consecutive numbers  \n",
    "        if((j*(j+1)) == num):\n",
    "            flag = True;\n",
    "            break;\n",
    "    return flag;\n",
    "#Displays pronic numbers between 1 and 100  \n",
    "print(\"Pronic numbers between 1 and 100:\");\n",
    "for i in range(1, 101):\n",
    "    if(isPronicNumber(i)):\n",
    "        print(i),\n",
    "        print(\" \")"
   ]
  },
  {
   "cell_type": "code",
   "execution_count": null,
   "id": "6967a9fb",
   "metadata": {},
   "outputs": [],
   "source": []
  },
  {
   "cell_type": "code",
   "execution_count": null,
   "id": "13ce661e",
   "metadata": {},
   "outputs": [],
   "source": []
  },
  {
   "cell_type": "code",
   "execution_count": null,
   "id": "aab7eeab",
   "metadata": {},
   "outputs": [],
   "source": []
  }
 ],
 "metadata": {
  "kernelspec": {
   "display_name": "Python 3 (ipykernel)",
   "language": "python",
   "name": "python3"
  },
  "language_info": {
   "codemirror_mode": {
    "name": "ipython",
    "version": 3
   },
   "file_extension": ".py",
   "mimetype": "text/x-python",
   "name": "python",
   "nbconvert_exporter": "python",
   "pygments_lexer": "ipython3",
   "version": "3.9.13"
  }
 },
 "nbformat": 4,
 "nbformat_minor": 5
}
